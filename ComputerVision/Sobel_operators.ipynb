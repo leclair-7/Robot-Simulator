{
 "cells": [
  {
   "cell_type": "markdown",
   "metadata": {},
   "source": [
    "## Use opencv to run sobel operators on a grayscale image"
   ]
  },
  {
   "cell_type": "code",
   "execution_count": 2,
   "metadata": {},
   "outputs": [],
   "source": [
    "import cv2\n",
    "import numpy as np\n",
    "import matplotlib.pyplot as plt\n",
    "import matplotlib.image as mpimg"
   ]
  },
  {
   "cell_type": "code",
   "execution_count": 9,
   "metadata": {},
   "outputs": [
    {
     "name": "stdout",
     "output_type": "stream",
     "text": [
      "[[  0.  38. 292. ... 258.  28.   0.]\n",
      " [  0. 173. 365. ... 315. 143.   0.]\n",
      " [  0. 405. 356. ... 293. 346.   0.]\n",
      " ...\n",
      " [  0. 185. 191. ...  77. 234.   0.]\n",
      " [  0.  71. 169. ... 155. 207.   0.]\n",
      " [  0.   4. 112. ... 192. 166.   0.]]\n"
     ]
    },
    {
     "data": {
      "text/plain": [
       "Text(0.5,1,'Pixels have a value of 1 or 0 based on the strength of the x gradient. ')"
      ]
     },
     "execution_count": 9,
     "metadata": {},
     "output_type": "execute_result"
    },
    {
     "data": {
      "image/png": "[encoded data removed]",
      "text/plain": [
       "<matplotlib.figure.Figure at 0x4a53c54048>"
      ]
     },
     "metadata": {},
     "output_type": "display_data"
    }
   ],
   "source": [
    "im = cv2.imread('curved-lane.jpg')\n",
    "\n",
    "# mpimg uses RGB\n",
    "# opencv uses BGR\n",
    "\n",
    "def abs_sobel_thresh(img, orient='x', thresh_min=0, thresh_max=255):\n",
    "    \n",
    "    imgcopy = np.copy(img)\n",
    "    gray = cv2.cvtColor(imgcopy, cv2.COLOR_BGR2GRAY)\n",
    "    \n",
    "    assert orient== 'x' or orient=='y'\n",
    "    \n",
    "    sobel = None\n",
    "    \n",
    "    if orient == 'x':\n",
    "        sobel = cv2.Sobel(gray, cv2.CV_64F, 1, 0)\n",
    "    elif orient == 'y':\n",
    "        sobel = cv2.Sobel(gray, cv2.CV_64F, 0, 1)\n",
    "\n",
    "    abs_sobel = np.absolute(sobel)\n",
    "    print(abs_sobel)\n",
    "    #convert to 8-bit 0..255 image\n",
    "    scaled_sobel = np.uint8(255*abs_sobel/np.max(abs_sobel))\n",
    "\n",
    "    #numpy zeros_like --> Returns an array of zeros with the same shape and type as a given array.\n",
    "    '''\n",
    "    thresh_min = 20\n",
    "    thresh_max = 100\n",
    "    '''\n",
    "    \n",
    "    #new image array with zeros\n",
    "    sxbinary = np.zeros_like(scaled_sobel)\n",
    "    \n",
    "    #make anything with the inputted thresholds 1\n",
    "    sxbinary[(scaled_sobel >= thresh_min) & (scaled_sobel <= thresh_max)] = 1\n",
    "    \n",
    "    return sxbinary\n",
    "sobeled_image = abs_sobel_thresh(im,'x',20,100)\n",
    "plt.imshow(sxbinary, cmap='gray')\n",
    "plt.title(\"Pixels have a value of 1 or 0 based on the strength of the x gradient. \")"
   ]
  },
  {
   "cell_type": "code",
   "execution_count": 22,
   "metadata": {},
   "outputs": [
    {
     "data": {
      "text/plain": [
       "Text(0.5,1,'Pixels have a value of 1 or 0 based on the strength of the x gradient. ')"
      ]
     },
     "execution_count": 22,
     "metadata": {},
     "output_type": "execute_result"
    },
    {
     "data": {
      "image/png": "[encoded data removed]",
      "text/plain": [
       "<matplotlib.figure.Figure at 0x4a522f2cc0>"
      ]
     },
     "metadata": {},
     "output_type": "display_data"
    }
   ],
   "source": [
    "def mag_thresh(img, sobel_kernel=3, mag_thresh=(0, 255)):\n",
    "    \n",
    "    imgcopy = np.copy(img)\n",
    "    \n",
    "    gray = cv2.cvtColor(imgcopy, cv2.COLOR_RGB2GRAY)    \n",
    "    \n",
    "    sobel = None\n",
    "    \n",
    "    sobelx = cv2.Sobel(gray, cv2.CV_64F, 1, 0, ksize = sobel_kernel)\n",
    "    sobely = cv2.Sobel(gray, cv2.CV_64F, 0, 1, ksize = sobel_kernel)\n",
    "    \n",
    "    sobelx,sobely = np.square(sobelx), np.square(sobely)\n",
    "    abs_sobelxy = np.absolute(np.sqrt(sobelx + sobely) )\n",
    "    \n",
    "    #convert to 8-bit 0..255 image\n",
    "    scaled_sobel = np.uint8(255*abs_sobelxy/np.max(abs_sobelxy))\n",
    "\n",
    "    thresh_min = mag_thresh[0]\n",
    "    thresh_max = mag_thresh[1]    \n",
    "    \n",
    "    #new image array with zeros\n",
    "    sxbinary = np.zeros_like(scaled_sobel)\n",
    "    \n",
    "    #make anything with the inputted thresholds 1\n",
    "    sxbinary[(scaled_sobel >= thresh_min) & (scaled_sobel <= thresh_max)] = 1\n",
    "    \n",
    "    return sxbinary\n",
    "\n",
    "image_sobelxy = mpimg.imread(\"signs_vehicles_xygrad.png\")\n",
    "sobeled_image = mag_thresh(image_sobelxy, 3, (30, 100))\n",
    "plt.imshow(sobeled_image, cmap='gray')\n",
    "plt.title(\"Pixels have a value of 1 or 0 based on the strength of the x gradient. \")"
   ]
  },
  {
   "cell_type": "code",
   "execution_count": 25,
   "metadata": {},
   "outputs": [],
   "source": [
    "def direction_threshold(img, sobel_kernel=3, thresh=(0, np.pi/2)):\n",
    "    \n",
    "    # Apply the following steps to img\n",
    "    # 1) Convert to grayscale\n",
    "    # 2) Take the gradient in x and y separately\n",
    "    # 3) Take the absolute value of the x and y gradients\n",
    "    imgcopy = np.copy(img)\n",
    "    \n",
    "    gray = cv2.cvtColor(imgcopy, cv2.COLOR_RGB2GRAY)    \n",
    "    \n",
    "    sobel = None\n",
    "    \n",
    "    sobelx = cv2.Sobel(gray, cv2.CV_64F, 1, 0, ksize = sobel_kernel)\n",
    "    sobely = cv2.Sobel(gray, cv2.CV_64F, 0, 1, ksize = sobel_kernel)\n",
    "    \n",
    "    sobelx,sobely = np.absolute(sobelx), np.absolute(sobely)\n",
    "    direction_of_gradient = np.arctan2( sobely, sobelx)\n",
    "    \n",
    "    # 4) Use np.arctan2(abs_sobely, abs_sobelx) to calculate the direction of the gradient \n",
    "    # 5) Create a binary mask where direction thresholds are met\n",
    "    # 6) Return this mask as your binary_output image\n",
    "    scaled_sobel = np.uint8(255*direction_of_gradient/np.max(direction_of_gradient))\n",
    "\n",
    "    thresh_min = thresh[0]\n",
    "    thresh_max = thresh[1]    \n",
    "    \n",
    "    #new image array with zeros\n",
    "    sxbinary = np.zeros_like(scaled_sobel)\n",
    "    \n",
    "    #make anything with the inputted thresholds 1\n",
    "    sxbinary[(scaled_sobel >= thresh_min) & (scaled_sobel <= thresh_max)] = 1\n",
    "    \n",
    "    return sxbinary\n",
    "\n",
    "    # 4) Use np.arctan2(abs_sobely, abs_sobelx) to calculate the direction of the gradient \n",
    "    # 5) Create a binary mask where direction thresholds are met\n",
    "    # 6) Return this mask as your binary_output image\n",
    "    "
   ]
  },
  {
   "cell_type": "code",
   "execution_count": 26,
   "metadata": {},
   "outputs": [
    {
     "data": {
      "text/plain": [
       "Text(0.5,1,'Direction of the Gradient')"
      ]
     },
     "execution_count": 26,
     "metadata": {},
     "output_type": "execute_result"
    },
    {
     "data": {
      "image/png": "[encoded data removed]",
      "text/plain": [
       "<matplotlib.figure.Figure at 0x4a54226ef0>"
      ]
     },
     "metadata": {},
     "output_type": "display_data"
    }
   ],
   "source": [
    "image_for_direction = mpimg.imread(\"signs_vehicles_xygrad.png\")\n",
    "\n",
    "#direction_threshold(img, sobel_kernel=3, thresh=(0, np.pi/2)):\n",
    "sobeled_image = direction_threshold(image_for_direction, sobel_kernel=15, thresh=(0.7, 1.3))\n",
    "plt.imshow(sobeled_image, cmap='gray')\n",
    "plt.title(\"Direction of the Gradient\")"
   ]
  },
  {
   "cell_type": "code",
   "execution_count": null,
   "metadata": {},
   "outputs": [],
   "source": []
  }
 ],
 "metadata": {
  "kernelspec": {
   "display_name": "Python 3",
   "language": "python",
   "name": "python3"
  },
  "language_info": {
   "codemirror_mode": {
    "name": "ipython",
    "version": 3
   },
   "file_extension": ".py",
   "mimetype": "text/x-python",
   "name": "python",
   "nbconvert_exporter": "python",
   "pygments_lexer": "ipython3",
   "version": "3.5.4"
  }
 },
 "nbformat": 4,
 "nbformat_minor": 2
}
