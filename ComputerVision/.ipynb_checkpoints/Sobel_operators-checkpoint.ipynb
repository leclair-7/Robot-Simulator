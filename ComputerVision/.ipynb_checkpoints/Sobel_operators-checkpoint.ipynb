{
 "cells": [
  {
   "cell_type": "markdown",
   "metadata": {},
   "source": [
    "## Use opencv to run sobel operators on a grayscale image"
   ]
  },
  {
   "cell_type": "code",
   "execution_count": 2,
   "metadata": {},
   "outputs": [],
   "source": [
    "import cv2\n",
    "import numpy as np\n",
    "import matplotlib.pyplot as plt\n",
    "import matplotlib.image as mpimg"
   ]
  },
  {
   "cell_type": "code",
   "execution_count": 8,
   "metadata": {},
   "outputs": [
    {
     "data": {
      "text/plain": [
       "Text(0.5,1,'Pixels have a value of 1 or 0 based on the strength of the x gradient. ')"
      ]
     },
     "execution_count": 8,
     "metadata": {},
     "output_type": "execute_result"
    },
    {
     "data": {
      "image/png": "[encoded data removed]",
      "text/plain": [
       "<matplotlib.figure.Figure at 0x4a522c2898>"
      ]
     },
     "metadata": {},
     "output_type": "display_data"
    }
   ],
   "source": [
    "im = cv2.imread('curved-lane.jpg')\n",
    "\n",
    "# mpimg uses RGB\n",
    "# opencv uses BGR\n",
    "\n",
    "def abs_sobel_thresh(img, orient='x', thresh_min=0, thresh_max=255):\n",
    "    \n",
    "    imgcopy = np.copy(img)\n",
    "    gray = cv2.cvtColor(imgcopy, cv2.COLOR_BGR2GRAY)\n",
    "    \n",
    "    assert orient== 'x' or orient=='y'\n",
    "    \n",
    "    sobel = None\n",
    "    \n",
    "    if orient == 'x':\n",
    "        sobel = cv2.Sobel(gray, cv2.CV_64F, 1, 0)\n",
    "    elif orient == 'y':\n",
    "        sobel = cv2.Sobel(gray, cv2.CV_64F, 0, 1)\n",
    "\n",
    "    abs_sobel = np.absolute(sobel)\n",
    "\n",
    "    #convert to 8-bit 0..255 image\n",
    "    scaled_sobel = np.uint8(255*abs_sobel/np.max(abs_sobel))\n",
    "\n",
    "    #numpy zeros_like --> Returns an array of zeros with the same shape and type as a given array.\n",
    "    '''\n",
    "    thresh_min = 20\n",
    "    thresh_max = 100\n",
    "    '''\n",
    "    sxbinary = np.zeros_like(scaled_sobel)\n",
    "    sxbinary[(scaled_sobel >= thresh_min) & (scaled_sobel <= thresh_max)] = 1\n",
    "    \n",
    "    return sxbinary\n",
    "sobeled_image = abs_sobel_thresh(im,'x',20,100)\n",
    "plt.imshow(sxbinary, cmap='gray')\n",
    "plt.title(\"Pixels have a value of 1 or 0 based on the strength of the x gradient. \")"
   ]
  },
  {
   "cell_type": "code",
   "execution_count": null,
   "metadata": {},
   "outputs": [],
   "source": []
  }
 ],
 "metadata": {
  "kernelspec": {
   "display_name": "Python 3",
   "language": "python",
   "name": "python3"
  },
  "language_info": {
   "codemirror_mode": {
    "name": "ipython",
    "version": 3
   },
   "file_extension": ".py",
   "mimetype": "text/x-python",
   "name": "python",
   "nbconvert_exporter": "python",
   "pygments_lexer": "ipython3",
   "version": "3.5.4"
  }
 },
 "nbformat": 4,
 "nbformat_minor": 2
}
